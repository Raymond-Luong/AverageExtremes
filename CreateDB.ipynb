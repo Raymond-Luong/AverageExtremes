{
 "cells": [
  {
   "cell_type": "code",
   "execution_count": 1,
   "metadata": {},
   "outputs": [
    {
     "data": {
      "text/plain": [
       "<sqlite3.Cursor at 0x5198f10>"
      ]
     },
     "execution_count": 1,
     "metadata": {},
     "output_type": "execute_result"
    }
   ],
   "source": [
    "import requests, json, math, sqlite3\n",
    "API_TOKEN = \"\"\n",
    "conn = sqlite3.connect('C:/sqlite/UnitedStations.db')\n",
    "c = conn.cursor()\n",
    "c.execute('''CREATE TABLE IF NOT EXISTS stations\n",
    "             (ID text, state text, name text, elev real, mindate text, maxdate text, lat real, long real)''')"
   ]
  },
  {
   "cell_type": "code",
   "execution_count": 2,
   "metadata": {},
   "outputs": [],
   "source": [
    "req_states = requests.get(\"https://www.ncdc.noaa.gov/cdo-web/api/v2/locations?locationcategoryid=ST&limit=52\", \n",
    "                          headers={\"token\":API_TOKEN})\n",
    "states_raw = json.loads(req_states.text)\n",
    "states = states_raw['results']\n",
    "state_stations = {}\n",
    "for s in states:\n",
    "    state_stations[s['id']] = s['name']\n",
    "    "
   ]
  },
  {
   "cell_type": "code",
   "execution_count": null,
   "metadata": {},
   "outputs": [],
   "source": [
    "for key in state_stations:\n",
    "    i = 0\n",
    "    state = state_stations[key]\n",
    "    \n",
    "    while True:\n",
    "        req = requests.get(\"https://www.ncdc.noaa.gov/cdo-web/api/v2/stations?locationid={}&limit=1000&offset={}\"\n",
    "            .format(key,i * 1000 + 1), headers={\"token\":API_TOKEN})\n",
    "        req_text = json.loads(req.text)\n",
    "        number_stations = req_text['metadata']['resultset']['count']\n",
    "        stations = req_text['results']\n",
    "        \n",
    "        for s in stations:\n",
    "            if 'elevation' in s:\n",
    "                t = (s['id'], state, s['name'], s['elevation'], s['mindate'], s['maxdate'], s['latitude'], s['longitude'])\n",
    "            else:\n",
    "                t = (s['id'], state, s['name'], None, s['mindate'], s['maxdate'], s['latitude'], s['longitude'])\n",
    "            c.execute(\"INSERT INTO stations VALUES (?,?,?,?,?,?,?,?)\", t)\n",
    "      \n",
    "        i = i + 1\n",
    "        if(i >= math.ceil(number_stations/1000)):\n",
    "            break\n",
    "            \n",
    "conn.commit()\n"
   ]
  },
  {
   "cell_type": "code",
   "execution_count": 8,
   "metadata": {},
   "outputs": [
    {
     "name": "stdout",
     "output_type": "stream",
     "text": [
      "There are a total of 83675 stations in the United States. :)\n"
     ]
    }
   ],
   "source": [
    "# #Total number of stations\n",
    "# total_stations = 0\n",
    "\n",
    "# for key in state_stations:\n",
    "#     hmm = requests.get(\"https://www.ncdc.noaa.gov/cdo-web/api/v2/stations?locationid={}\".format(key)\n",
    "#             , headers={\"token\":\"KxpzfqKFVIjaYiggsqRLQWXAsuAxthBO\"})\n",
    "#     hmm_text = json.loads(hmm.text)\n",
    "#     total_stations += hmm_text['metadata']['resultset']['count']\n",
    "\n",
    "# print(\"There are a total of {} stations in the United States. :)\".format(total_stations))\n",
    "    "
   ]
  }
 ],
 "metadata": {
  "kernelspec": {
   "display_name": "Python 3",
   "language": "python",
   "name": "python3"
  },
  "language_info": {
   "codemirror_mode": {
    "name": "ipython",
    "version": 3
   },
   "file_extension": ".py",
   "mimetype": "text/x-python",
   "name": "python",
   "nbconvert_exporter": "python",
   "pygments_lexer": "ipython3",
   "version": "3.7.0"
  }
 },
 "nbformat": 4,
 "nbformat_minor": 2
}
