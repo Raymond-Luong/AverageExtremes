{
 "cells": [
  {
   "cell_type": "code",
   "execution_count": 28,
   "metadata": {},
   "outputs": [],
   "source": [
    "import json, requests, sqlite3, matplotlib.pyplot as plt"
   ]
  },
  {
   "cell_type": "code",
   "execution_count": 29,
   "metadata": {},
   "outputs": [],
   "source": [
    "API_TOKEN = \"\"\n",
    "NUM_STATIONS = 25\n",
    "#Connect to database\n",
    "conn = sqlite3.connect('C:/sqlite/UnitedStations.db')\n",
    "c = conn.cursor()"
   ]
  },
  {
   "cell_type": "code",
   "execution_count": 30,
   "metadata": {},
   "outputs": [],
   "source": [
    "#Retrieve list of states\n",
    "c.execute(\"SELECT DISTINCT state FROM stations\")\n",
    "states_raw = c.fetchall()\n",
    "states = []\n",
    "for state in states_raw:\n",
    "    states.append(state[0].lower())"
   ]
  },
  {
   "cell_type": "code",
   "execution_count": 31,
   "metadata": {},
   "outputs": [
    {
     "name": "stdout",
     "output_type": "stream",
     "text": [
      "Enter state to be graphed: Kansas\n"
     ]
    }
   ],
   "source": [
    "#Prompt user for state:\n",
    "while True:\n",
    "    st = input(\"Enter state to be analzyed: \").lower()\n",
    "    if st in states:\n",
    "        break\n",
    "    print(\"State not found, try again.\")"
   ]
  },
  {
   "cell_type": "code",
   "execution_count": 32,
   "metadata": {},
   "outputs": [],
   "source": [
    "#create table (and clear it if it exists) for selected state\n",
    "c.execute('''CREATE TABLE IF NOT EXISTS temps_{}\n",
    "            (station text, year real, maxtemp real, mintemp real, PRIMARY KEY (station, year))'''.format(st.replace(\" \", \"_\")))\n",
    "c.execute(\"DELETE FROM temps_{}\".format(st.replace(\" \", \"_\")))\n",
    "conn.commit()"
   ]
  },
  {
   "cell_type": "code",
   "execution_count": null,
   "metadata": {},
   "outputs": [],
   "source": [
    "get_temps(st)\n",
    "conn.commit()\n",
    "plot(st)"
   ]
  },
  {
   "cell_type": "code",
   "execution_count": 33,
   "metadata": {},
   "outputs": [],
   "source": [
    "def get_temps(state):\n",
    "    count = 0\n",
    "    station_ids = get_random_stations(state)\n",
    "   \n",
    "    #Inserting IDs and years into temps_(state)\n",
    "    for s in station_ids:\n",
    "        count += 1\n",
    "        print(\"Looking at station {} of {}\".format(count, NUM_STATIONS), end = \"\\r\")\n",
    "        for y in range(1950,2017):\n",
    "            c.execute(\"INSERT INTO temps_{}(station, year) VALUES ({},{})\".format(state.replace(\" \", \"_\"), repr(s), y))\n",
    "        #API calls\n",
    "        temps_request(state, s)\n",
    "    \n",
    "    \n",
    "    #store in table corresponding to the state\n",
    "    conn.commit()"
   ]
  },
  {
   "cell_type": "code",
   "execution_count": 34,
   "metadata": {},
   "outputs": [],
   "source": [
    "#returns list of strings of station IDs\n",
    "def get_random_stations(state):\n",
    "    c.execute('''SELECT ID FROM stations WHERE state LIKE {} AND mindate < 19500101 AND maxdate > 20171231 \n",
    "              ORDER BY RANDOM() LIMIT {}'''.format(repr(state), NUM_STATIONS))\n",
    "    id_tuple = c.fetchall()\n",
    "    ids = [i[0] for i in id_tuple]\n",
    "    return ids\n",
    "    "
   ]
  },
  {
   "cell_type": "code",
   "execution_count": 35,
   "metadata": {},
   "outputs": [],
   "source": [
    "def temps_request(state, station):\n",
    "    final_year = 2018\n",
    "    current_year = 1950\n",
    "\n",
    "    while current_year < final_year:\n",
    "        req_max = requests.get(\"https://www.ncdc.noaa.gov/cdo-web/api/v2/data?datasetid=GSOY&stationid={}&units=standard&startdate={}-01-01&enddate={}-01-01&limit=1000&datatypeid=TMAX&units=metric\"\n",
    "                               .format(station, str(current_year), str(current_year+10)), headers={\"token\":API_TOKEN})\n",
    "\n",
    "        max_t = json.loads(req_max.text)\n",
    "        if 'results' in max_t:\n",
    "            #print(\"In max if\")\n",
    "            max_temps = max_t['results']\n",
    "            for t in max_temps:\n",
    "                c.execute(\"UPDATE temps_{} SET maxtemp = {} WHERE station = {} AND year = {}\".format(state.replace(\" \", \"_\"), t['value'], repr(station), int(t['date'][:4])))\n",
    "             \n",
    "\n",
    "        req_min = requests.get(\"https://www.ncdc.noaa.gov/cdo-web/api/v2/data?datasetid=GSOY&stationid={}&units=standard&startdate={}-01-01&enddate={}-01-01&limit=1000&datatypeid=TMIN&units=metric\"\n",
    "                               .format(station, str(current_year), str(current_year+10)), headers={\"token\":API_TOKEN})\n",
    "        min_t = json.loads(req_min.text)\n",
    "        if 'results' in min_t:\n",
    "            #print(\"In min if\")\n",
    "            min_temps = min_t['results']\n",
    "            for t in min_temps:\n",
    "                c.execute(\"UPDATE temps_{} SET mintemp = {} WHERE station = {} AND year = {}\".format(state.replace(\" \", \"_\"), t['value'], repr(station), int(t['date'][:4])))\n",
    "\n",
    "        current_year = current_year + 10"
   ]
  },
  {
   "cell_type": "code",
   "execution_count": 36,
   "metadata": {},
   "outputs": [
    {
     "name": "stdout",
     "output_type": "stream",
     "text": [
      "Looking at station 15 of 15\r"
     ]
    },
    {
     "data": {
      "image/png": "[encoded data removed]",
      "text/plain": [
       "<Figure size 432x288 with 1 Axes>"
      ]
     },
     "metadata": {
      "needs_background": "light"
     },
     "output_type": "display_data"
    }
   ],
   "source": [
    "def plot(state):\n",
    "    years = list(range(1950,2017))\n",
    "    minimums = []\n",
    "    maximums = []\n",
    "    for y in years:\n",
    "        c.execute(\"SELECT AVG(mintemp), AVG(maxtemp) FROM temps_{} WHERE year = {}\".format(state, y))\n",
    "        averages = c.fetchall()\n",
    "        minimums.append(averages[0][0])\n",
    "        maximums.append(averages[0][1])\n",
    "    \n",
    "    plt.scatter(years, maximums)\n",
    "    plt.scatter(years, minimums)\n",
    "    plt.xlabel(\"Year\")\n",
    "    plt.ylabel(\"Temperature (C)\")\n",
    "    plt.title(state.capitalize())"
   ]
  }
 ],
 "metadata": {
  "kernelspec": {
   "display_name": "Python 3",
   "language": "python",
   "name": "python3"
  },
  "language_info": {
   "codemirror_mode": {
    "name": "ipython",
    "version": 3
   },
   "file_extension": ".py",
   "mimetype": "text/x-python",
   "name": "python",
   "nbconvert_exporter": "python",
   "pygments_lexer": "ipython3",
   "version": "3.7.0"
  }
 },
 "nbformat": 4,
 "nbformat_minor": 2
}
